{
 "cells": [
  {
   "cell_type": "code",
   "execution_count": 1,
   "metadata": {},
   "outputs": [
    {
     "name": "stdout",
     "output_type": "stream",
     "text": [
      "d:\\UD\\PythonProgramming_Online\\FinalProject\n"
     ]
    }
   ],
   "source": [
    "#  Place your files in a folder of your choice \n",
    "#  and set the current working directory to be that folder. \n",
    "\n",
    "%cd d:/UD/PythonProgramming_Online/FinalProject"
   ]
  },
  {
   "cell_type": "code",
   "execution_count": 2,
   "metadata": {},
   "outputs": [
    {
     "name": "stderr",
     "output_type": "stream",
     "text": [
      "C:\\Users\\juelizon\\Anaconda3\\lib\\site-packages\\IPython\\core\\interactiveshell.py:3063: DtypeWarning: Columns (18) have mixed types.Specify dtype option on import or set low_memory=False.\n",
      "  interactivity=interactivity, compiler=compiler, result=result)\n"
     ]
    }
   ],
   "source": [
    "# Import your data into a pandas dataframe.\n",
    "\n",
    "import pandas as pd\n",
    "\n",
    "data = pd.read_csv('lc_2016_2017_short.csv',low_memory=False)"
   ]
  },
  {
   "cell_type": "code",
   "execution_count": 5,
   "metadata": {},
   "outputs": [
    {
     "name": "stdout",
     "output_type": "stream",
     "text": [
      "(200000, 72)\n",
      "id                    int64\n",
      "member_id           float64\n",
      "loan_amnt             int64\n",
      "funded_amnt           int64\n",
      "funded_amnt_inv     float64\n",
      "                     ...   \n",
      "all_util            float64\n",
      "total_rev_hi_lim    float64\n",
      "inq_fi              float64\n",
      "total_cu_tl         float64\n",
      "inq_last_12m        float64\n",
      "Length: 72, dtype: object\n"
     ]
    }
   ],
   "source": [
    "# 1. Explore your data by producing the following:\n",
    "#    Descriptive statistics for numeric variables\n",
    "#    Save the descriptive statistics to a comma delimited file.\n",
    "#    Descriptive statistics for categorical variables\n",
    "#    Save the descriptive statistics to a comma delimited file.\n",
    "\n",
    "#  Number of observations and number of variables.\n",
    "\n",
    "print(data.shape)\n",
    "\n",
    "#  variable types.\n",
    "\n",
    "print(data.dtypes)\n",
    "\n",
    "\n",
    "#  Descriptive statistics for numeric variables\n",
    "\n",
    "data_numeric = data.describe()\n",
    "\n",
    "#  Descriptive statistics for categorical variables\n",
    "\n",
    "data_categorical = data.describe(include='object')\n",
    "\n",
    "#  Save descriptive statistics to csv files.\n",
    "\n",
    "data_numeric.to_csv('gc_desc_numeric.csv')\n",
    "data_categorical.to_csv('gc_desc_categorical.csv')"
   ]
  },
  {
   "cell_type": "code",
   "execution_count": null,
   "metadata": {},
   "outputs": [],
   "source": [
    "# 2. Create a bar chart to represent the average dti (debt-to-income ratio) for each grade of loan.  \n",
    "#    In other words, the height of the bars depict the dti for a particular grade of loan.  \n",
    "#    The relevant variables are dti and grade.\n",
    "\n",
    "import matplotlib.pyplot as plt\n",
    "chartData = data.loc[:,['dti', 'grade']].groupby('grade').mean()\n",
    "chartData.plot(kind='bar', color='green')\n",
    "plt.ylabel('DTI')\n",
    "plt.xlabel('Grade')\n",
    "plt.xticks(rotation=0)\n",
    "plt.show()\n",
    "plt.close()"
   ]
  }
 ],
 "metadata": {
  "kernelspec": {
   "display_name": "Python 3",
   "language": "python",
   "name": "python3"
  },
  "language_info": {
   "codemirror_mode": {
    "name": "ipython",
    "version": 3
   },
   "file_extension": ".py",
   "mimetype": "text/x-python",
   "name": "python",
   "nbconvert_exporter": "python",
   "pygments_lexer": "ipython3",
   "version": "3.7.6"
  }
 },
 "nbformat": 4,
 "nbformat_minor": 4
}
